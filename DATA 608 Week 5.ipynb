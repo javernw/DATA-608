{
 "cells": [
  {
   "cell_type": "code",
   "execution_count": null,
   "metadata": {},
   "outputs": [
    {
     "name": "stderr",
     "output_type": "stream",
     "text": [
      " * Running on http://127.0.0.1:5000/ (Press CTRL+C to quit)\n",
      "[2019-04-07 09:50:43,984] ERROR in app: Exception on / [GET]\n",
      "Traceback (most recent call last):\n",
      "  File \"/Users/vinicioharo/anaconda3/lib/python3.6/site-packages/flask/app.py\", line 1982, in wsgi_app\n",
      "    response = self.full_dispatch_request()\n",
      "  File \"/Users/vinicioharo/anaconda3/lib/python3.6/site-packages/flask/app.py\", line 1614, in full_dispatch_request\n",
      "    rv = self.handle_user_exception(e)\n",
      "  File \"/Users/vinicioharo/anaconda3/lib/python3.6/site-packages/flask/app.py\", line 1517, in handle_user_exception\n",
      "    reraise(exc_type, exc_value, tb)\n",
      "  File \"/Users/vinicioharo/anaconda3/lib/python3.6/site-packages/flask/_compat.py\", line 33, in reraise\n",
      "    raise value\n",
      "  File \"/Users/vinicioharo/anaconda3/lib/python3.6/site-packages/flask/app.py\", line 1612, in full_dispatch_request\n",
      "    rv = self.dispatch_request()\n",
      "  File \"/Users/vinicioharo/anaconda3/lib/python3.6/site-packages/flask/app.py\", line 1598, in dispatch_request\n",
      "    return self.view_functions[rule.endpoint](**req.view_args)\n",
      "  File \"<ipython-input-1-e5f0a5d75b02>\", line 34, in index\n",
      "    return render_template('index.html')\n",
      "  File \"/Users/vinicioharo/anaconda3/lib/python3.6/site-packages/flask/templating.py\", line 133, in render_template\n",
      "    return _render(ctx.app.jinja_env.get_or_select_template(template_name_or_list),\n",
      "  File \"/Users/vinicioharo/anaconda3/lib/python3.6/site-packages/jinja2/environment.py\", line 869, in get_or_select_template\n",
      "    return self.get_template(template_name_or_list, parent, globals)\n",
      "  File \"/Users/vinicioharo/anaconda3/lib/python3.6/site-packages/jinja2/environment.py\", line 830, in get_template\n",
      "    return self._load_template(name, self.make_globals(globals))\n",
      "  File \"/Users/vinicioharo/anaconda3/lib/python3.6/site-packages/jinja2/environment.py\", line 804, in _load_template\n",
      "    template = self.loader.load(self, name, globals)\n",
      "  File \"/Users/vinicioharo/anaconda3/lib/python3.6/site-packages/jinja2/loaders.py\", line 113, in load\n",
      "    source, filename, uptodate = self.get_source(environment, name)\n",
      "  File \"/Users/vinicioharo/anaconda3/lib/python3.6/site-packages/flask/templating.py\", line 57, in get_source\n",
      "    return self._get_source_fast(environment, template)\n",
      "  File \"/Users/vinicioharo/anaconda3/lib/python3.6/site-packages/flask/templating.py\", line 85, in _get_source_fast\n",
      "    raise TemplateNotFound(template)\n",
      "jinja2.exceptions.TemplateNotFound: index.html\n",
      "127.0.0.1 - - [07/Apr/2019 09:50:43] \"GET / HTTP/1.1\" 500 -\n"
     ]
    }
   ],
   "source": [
    "from flask import Flask, jsonify, send_from_directory, render_template\n",
    "import pandas as pd\n",
    "\n",
    "\n",
    "app = Flask(__name__)\n",
    "\n",
    "\n",
    "# This is an API meant to serve some housing price index data\n",
    "#We take this provided template and adapt it to fit our tree needs\n",
    "@app.route('/trees/<string:boroname>/<string:health>')\n",
    "def return_hpi_data(boroname, health):\n",
    "\n",
    "    # Read in raw data\n",
    "    soql_url = ('https://data.cityofnewyork.us/resource/nwxe-4ae8.json?' +\\\n",
    "        '$select=count(tree_id),boroname,spc_common, health,status' +\\\n",
    "         '&$where=health!=\\'NaN\\'' +\\\n",
    "        '&$group=boroname,health,status,spc_common').replace(' ', '%20')\n",
    "    \n",
    "    raw_data = pd.read_json(soql_url)\n",
    "\n",
    "    # Filter based on boroname and health\n",
    "    filtered_data = raw_data.loc[(raw_data['boroname'] == boroname) & (raw_data['health'] == health)]\n",
    "\n",
    "    # Build our json, then return it with jsonify\n",
    "    filtered_data_json = {\n",
    "        'spc_common': filtered_data['spc_common'].tolist(),\n",
    "        'count_tree_id': filtered_data['count_tree_id'].tolist(),\n",
    "        'status': filtered_data['status'].tolist()\n",
    "    }\n",
    "\n",
    "    return jsonify(filtered_data_json)\n",
    "\n",
    "\n",
    "# This routing allows us to view index.html\n",
    "@app.route('/')\n",
    "def index():\n",
    "    return render_template('index.html')\n",
    "\n",
    "\n",
    "# This routing allows us to load local Javascript\n",
    "@app.route('/js/<path:path>')\n",
    "def send_js(path):\n",
    "    return send_from_directory('js', path)\n",
    "\n",
    "\n",
    "if __name__ == '__main__':\n",
    "    app.run()"
   ]
  },
  {
   "cell_type": "code",
   "execution_count": null,
   "metadata": {},
   "outputs": [],
   "source": []
  }
 ],
 "metadata": {
  "kernelspec": {
   "display_name": "Python 3",
   "language": "python",
   "name": "python3"
  },
  "language_info": {
   "codemirror_mode": {
    "name": "ipython",
    "version": 3
   },
   "file_extension": ".py",
   "mimetype": "text/x-python",
   "name": "python",
   "nbconvert_exporter": "python",
   "pygments_lexer": "ipython3",
   "version": "3.6.8"
  }
 },
 "nbformat": 4,
 "nbformat_minor": 2
}
